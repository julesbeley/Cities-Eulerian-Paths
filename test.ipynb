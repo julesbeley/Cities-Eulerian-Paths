{
 "cells": [
  {
   "cell_type": "code",
   "execution_count": 1,
   "id": "6979fbc0",
   "metadata": {},
   "outputs": [],
   "source": [
    "from eulerian_streets import eulerian_trail_from_place"
   ]
  },
  {
   "cell_type": "code",
   "execution_count": 2,
   "id": "fa7087cb",
   "metadata": {},
   "outputs": [],
   "source": [
    "start = (4.373818, 45.318257)\n",
    "\n",
    "test_path = eulerian_trail_from_place(\n",
    "    query='Jonzieux',\n",
    "    quiet=True,\n",
    "    network_type='drive',\n",
    "    start_lon_lat=start, \n",
    "    save_trail_as_gpx=True,\n",
    "    gpx_fp = './Examples/Jonzieux.gpx',\n",
    "    save_animation=True,\n",
    "    animation_fp = './Examples/Jonzieux.gif'\n",
    ")"
   ]
  }
 ],
 "metadata": {
  "kernelspec": {
   "display_name": "Python 3",
   "language": "python",
   "name": "python3"
  },
  "language_info": {
   "codemirror_mode": {
    "name": "ipython",
    "version": 3
   },
   "file_extension": ".py",
   "mimetype": "text/x-python",
   "name": "python",
   "nbconvert_exporter": "python",
   "pygments_lexer": "ipython3",
   "version": "3.9.5"
  }
 },
 "nbformat": 4,
 "nbformat_minor": 5
}
