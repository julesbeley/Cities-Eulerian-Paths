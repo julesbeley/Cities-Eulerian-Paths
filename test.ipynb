{
 "cells": [
  {
   "cell_type": "code",
   "execution_count": 1,
   "metadata": {},
   "outputs": [],
   "source": [
    "from eulerian_streets import eulerian_path_from_place"
   ]
  },
  {
   "cell_type": "code",
   "execution_count": 2,
   "metadata": {},
   "outputs": [],
   "source": [
    "start = (4.373818, 45.318257)\n",
    "\n",
    "test_path = eulerian_path_from_place(\n",
    "    'La Clusaz',\n",
    "    network_type='drive',\n",
    "    #start_lon_lat=start, \n",
    "    save_path_as_gpx=True,\n",
    "    #save_animation=True\n",
    ")"
   ]
  }
 ],
 "metadata": {
  "kernelspec": {
   "display_name": "Python 3",
   "language": "python",
   "name": "python3"
  },
  "language_info": {
   "codemirror_mode": {
    "name": "ipython",
    "version": 3
   },
   "file_extension": ".py",
   "mimetype": "text/x-python",
   "name": "python",
   "nbconvert_exporter": "python",
   "pygments_lexer": "ipython3",
   "version": "3.9.4"
  }
 },
 "nbformat": 4,
 "nbformat_minor": 5
}
