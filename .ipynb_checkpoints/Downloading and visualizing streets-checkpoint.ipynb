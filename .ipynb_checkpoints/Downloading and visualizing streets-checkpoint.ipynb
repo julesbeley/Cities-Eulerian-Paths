{
 "cells": [
  {
   "cell_type": "raw",
   "id": "b399534e",
   "metadata": {},
   "source": [
    "# get streets from overpass api\n",
    "\n",
    "import requests\n",
    "\n",
    "url = r'http://overpass-api.de/api/interpreter?data=[out:json][timeout:1000];area[name=\"Île-de-France\"]->.b;rel(area.b)[name=\"Paris\"];map_to_area->.a;way(area.a)[\"highway\"~\"^(residential|steps|pedestrian|primary|secondary|tertiary|living_street)$\"][\"access\"!=\"private\"][\"name\"!~\"^Cour\"];out%20geom;'\n",
    "r = requests.get(url,allow_redirects=True)\n",
    "open('./Streets of Paris.json','wb').write(r.content)"
   ]
  },
  {
   "cell_type": "code",
   "execution_count": 1,
   "id": "c472edf7",
   "metadata": {},
   "outputs": [],
   "source": [
    "import matplotlib.pyplot as plt\n",
    "import json\n",
    "import pandas as pd\n",
    "import numpy as np\n",
    "import networkx as nx\n",
    "from itertools import combinations"
   ]
  },
  {
   "cell_type": "code",
   "execution_count": 2,
   "id": "approved-protein",
   "metadata": {},
   "outputs": [],
   "source": [
    "# import streets and create df with coordinates\n",
    "\n",
    "with open('./Streets of Paris.json',encoding='UTF-8') as json_file:\n",
    "    all_streets = json.load(json_file)\n",
    "    \n",
    "all_streets = all_streets['elements']\n",
    "\n",
    "df_list = []\n",
    "\n",
    "for k,street in enumerate(all_streets):\n",
    "    tags = street['tags']\n",
    "    if 'name' in tags:\n",
    "        geom = street['geometry']\n",
    "        df = pd.DataFrame(geom)\n",
    "        name = tags['name']\n",
    "        df.insert(0,'segment no.',k)\n",
    "        df.insert(3,'name',name)\n",
    "        df_list.append(df)\n",
    "\n",
    "df_lat_lon = pd.concat(df_list)\n",
    "df_lat_lon.drop_duplicates(inplace=True)"
   ]
  },
  {
   "cell_type": "code",
   "execution_count": 3,
   "id": "hindu-express",
   "metadata": {},
   "outputs": [],
   "source": [
    "# get intersections\n",
    "\n",
    "lat_lon = ['lat','lon']\n",
    "test_if_duplicate = df_lat_lon.duplicated(subset=lat_lon,keep=False)\n",
    "grouped = df_lat_lon[test_if_duplicate].groupby(lat_lon)\n",
    "\n",
    "intersection_nos = []\n",
    "intersection_points = []\n",
    "\n",
    "for group,points in grouped:\n",
    "    points.reset_index(inplace=True)\n",
    "    intersection_nos.append(points['segment no.'].tolist())\n",
    "    intersection_points.append(points.loc[0,lat_lon])\n",
    "    \n",
    "df_intersections = pd.DataFrame(intersection_points)\n",
    "df_intersections.insert(0,'segment nos.',intersection_nos)"
   ]
  },
  {
   "cell_type": "code",
   "execution_count": 4,
   "id": "technical-mouth",
   "metadata": {},
   "outputs": [],
   "source": [
    "# create graph from edges and nodes and keep largest connected component\n",
    "\n",
    "paris = nx.Graph()\n",
    "segments = list(set(df_lat_lon['segment no.']))\n",
    "paris.add_nodes_from(segments)\n",
    "intersections = df_intersections['segment nos.'].apply(lambda x: list(combinations(x,2)))\n",
    "intersections = [e for i in intersections.tolist() for e in i]\n",
    "paris.add_edges_from(intersections)\n",
    "\n",
    "paris = paris.subgraph(list(max(nx.connected_components(paris))))\n",
    "nodes_to_keep = list(paris.nodes)\n",
    "df_lat_lon = df_lat_lon[df_lat_lon['segment no.'].isin(nodes_to_keep)]\n",
    "keep = df_intersections['segment nos.'].apply(lambda x: set(x).issubset(set(nodes_to_keep)))\n",
    "df_intersections = df_intersections[keep]"
   ]
  },
  {
   "cell_type": "code",
   "execution_count": 5,
   "id": "b1d0ca19",
   "metadata": {},
   "outputs": [],
   "source": [
    "# export map\n",
    "\n",
    "fig,ax = plt.subplots(1,1,figsize=(18,12))\n",
    "\n",
    "for position in ['right','left','top','bottom']:\n",
    "    ax.spines[position].set_visible(False)\n",
    "\n",
    "for k,street in df_lat_lon.groupby('segment no.'):\n",
    "    plt.plot(street['lon'],street['lat'],linewidth=0.95,alpha=0.8)\n",
    "    \n",
    "plt.scatter(df_intersections['lon'],df_intersections['lat'],\n",
    "            marker='.',color='black',alpha=0.4,s=15)\n",
    "    \n",
    "plt.savefig('./Paris streets largest component.svg')\n",
    "plt.close(fig)"
   ]
  },
  {
   "cell_type": "code",
   "execution_count": null,
   "id": "5e102a98",
   "metadata": {},
   "outputs": [],
   "source": [
    "# solve the postman problem\n",
    "\n",
    "from postman_problems.solver import cpp\n",
    "from postman_problems.stats import calculate_postman_solution_stats\n",
    "\n",
    "pd.DataFrame(list(paris.edges)).to_csv('./paris_edges.csv',index=False)\n",
    "circuit,graph = cpp(edgelist_filename='./paris_edges.csv',start_node='0')"
   ]
  }
 ],
 "metadata": {
  "kernelspec": {
   "display_name": "Python 3",
   "language": "python",
   "name": "python3"
  },
  "language_info": {
   "codemirror_mode": {
    "name": "ipython",
    "version": 3
   },
   "file_extension": ".py",
   "mimetype": "text/x-python",
   "name": "python",
   "nbconvert_exporter": "python",
   "pygments_lexer": "ipython3",
   "version": "3.8.8"
  }
 },
 "nbformat": 4,
 "nbformat_minor": 5
}
