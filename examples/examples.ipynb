{
 "cells": [
  {
   "cell_type": "code",
   "execution_count": 1,
   "id": "6979fbc0",
   "metadata": {},
   "outputs": [],
   "source": [
    "from eulerian_cities.eulerian import eulerian_trail_from_place"
   ]
  },
  {
   "cell_type": "code",
   "execution_count": 2,
   "metadata": {},
   "outputs": [],
   "source": [
    "eulerian_trail_from_place(\n",
    "    query='Jonzieux',\n",
    "    network_type='drive',\n",
    "    start_lon_lat=(4.373818, 45.318257), \n",
    "    save_trail_as_gpx=True,\n",
    "    gpx_fp = './data/jonzieux.gpx',\n",
    "    save_animation=True,\n",
    "    animation_fp='./data/jonzieux_for_display.gif',\n",
    "    animation_fig_size=10,\n",
    "    quiet=True\n",
    ")"
   ]
  },
  {
   "cell_type": "code",
   "execution_count": 3,
   "id": "fa7087cb",
   "metadata": {},
   "outputs": [],
   "source": [
    "eulerian_trail_from_place(\n",
    "    query='Jonzieux',\n",
    "    network_type='drive',\n",
    "    start_lon_lat=(4.373818, 45.318257), \n",
    "    save_trail_as_gpx=True,\n",
    "    gpx_fp = './data/jonzieux.gpx',\n",
    "    save_animation=True,\n",
    "    animation_fp='./data/jonzieux.gif',\n",
    "    quiet=True\n",
    ")"
   ]
  },
  {
   "cell_type": "code",
   "execution_count": 4,
   "id": "56a51ee2",
   "metadata": {},
   "outputs": [],
   "source": [
    "eulerian_trail_from_place(\n",
    "    query=('42, Montée du Petit Versailles', 600),\n",
    "    query_type='address',\n",
    "    save_trail_as_gpx=True,\n",
    "    gpx_fp='./data/caluire_address_test.gpx',\n",
    "    quiet=True\n",
    ")"
   ]
  },
  {
   "cell_type": "code",
   "execution_count": 5,
   "id": "328f85f3",
   "metadata": {},
   "outputs": [],
   "source": [
    "eulerian_trail_from_place(\n",
    "    query=(45.79, 45.78, 4.84, 4.80),\n",
    "    query_type='bbox',\n",
    "    network_type='drive',\n",
    "    save_trail_as_gpx=True,\n",
    "    gpx_fp='./data/vaise_bbox.gpx',\n",
    "    quiet=True\n",
    ")"
   ]
  },
  {
   "cell_type": "code",
   "execution_count": 6,
   "id": "f41f3243",
   "metadata": {},
   "outputs": [],
   "source": [
    "eulerian_trail_from_place(\n",
    "    query='Neuenheim, Heidelberg',\n",
    "    network_type='drive',\n",
    "    save_trail_as_gpx=True,\n",
    "    gpx_fp='./data/hd_test.gpx',\n",
    "    quiet=True\n",
    ")"
   ]
  }
 ],
 "metadata": {
  "kernelspec": {
   "display_name": "Python 3 (ipykernel)",
   "language": "python",
   "name": "python3"
  },
  "language_info": {
   "codemirror_mode": {
    "name": "ipython",
    "version": 3
   },
   "file_extension": ".py",
   "mimetype": "text/x-python",
   "name": "python",
   "nbconvert_exporter": "python",
   "pygments_lexer": "ipython3",
   "version": "3.9.6"
  }
 },
 "nbformat": 4,
 "nbformat_minor": 5
}
