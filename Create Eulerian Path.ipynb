{
 "cells": [
  {
   "cell_type": "code",
   "execution_count": 1,
   "id": "2b29fe4c",
   "metadata": {},
   "outputs": [],
   "source": [
    "import osmnx as ox\n",
    "import networkx as nx\n",
    "import matplotlib.pyplot as plt"
   ]
  },
  {
   "cell_type": "code",
   "execution_count": 2,
   "metadata": {},
   "outputs": [],
   "source": [
    "# get network from place name and create undirected graph\n",
    "\n",
    "jonzieux = ox.graph.graph_from_place('Jonzieux',network_type='walk')\n",
    "jonzieux = jonzieux.to_undirected()"
   ]
  },
  {
   "cell_type": "code",
   "execution_count": null,
   "metadata": {},
   "outputs": [],
   "source": [
    "# eulerize and get circuit\n",
    "\n",
    "jonzieux_eulerized = nx.eulerize(jonzieux)\n",
    "circuit = list(nx.eulerian_circuit(jonzieux_eulerized))"
   ]
  },
  {
   "cell_type": "code",
   "execution_count": 36,
   "metadata": {},
   "outputs": [],
   "source": [
    "# create plots from circuit (for animation)\n",
    "\n",
    "jonzieux_projected = ox.project_graph(jonzieux).to_undirected()\n",
    "nodes_projected = ox.graph_to_gdfs(jonzieux_projected,edges=False)\n",
    "west,south,east,north = list(nodes_projected.total_bounds)\n",
    "p = 500\n",
    "bbox = north+p,south-p,east+p,west-p\n",
    "\n",
    "node_container = []\n",
    "\n",
    "for edge in circuit:\n",
    "    node_container.extend(edge)\n",
    "    subgraph = jonzieux_projected.subgraph(node_container)\n",
    "    ox.plot_graph(subgraph,bgcolor='white',node_color='black',bbox=bbox)"
   ]
  },
  {
   "cell_type": "code",
   "execution_count": 74,
   "metadata": {},
   "outputs": [],
   "source": [
    "# get coordinates of path\n",
    "\n",
    "original_edges = ox.graph_to_gdfs(jonzieux,nodes=False)\n",
    "path_coordinates = []\n",
    "\n",
    "for edge in circuit:\n",
    "    \n",
    "    gdf_edge = original_edges[original_edges.index == edge+(0,)]\n",
    "    \n",
    "    if len(gdf_edge) == 0:\n",
    "        gdf_edge = original_edges[original_edges.index == edge[::-1]+(0,)]\n",
    "    \n",
    "    coords = gdf_edge['geometry'].values[0].coords\n",
    "    path_coordinates.extend(list(coords))"
   ]
  },
  {
   "cell_type": "code",
   "execution_count": 5,
   "metadata": {},
   "outputs": [],
   "source": [
    "# calculate total distance of eulerian path\n",
    "# export gif\n",
    "# export gps file of path"
   ]
  }
 ],
 "metadata": {
  "kernelspec": {
   "display_name": "Python 3",
   "language": "python",
   "name": "python3"
  },
  "language_info": {
   "codemirror_mode": {
    "name": "ipython",
    "version": 3
   },
   "file_extension": ".py",
   "mimetype": "text/x-python",
   "name": "python",
   "nbconvert_exporter": "python",
   "pygments_lexer": "ipython3",
   "version": "3.9.4"
  }
 },
 "nbformat": 4,
 "nbformat_minor": 5
}
